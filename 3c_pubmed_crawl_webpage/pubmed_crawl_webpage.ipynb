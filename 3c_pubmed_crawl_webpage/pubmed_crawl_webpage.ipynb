{
 "cells": [
  {
   "cell_type": "markdown",
   "metadata": {},
   "source": [
    "# Crawl web pages\n",
    "\n",
    "*If all else fails, you can crawl a website*\n",
    "\n",
    "* only when information is not available through API\n",
    "* beware of copyrights\n",
    "* don't crawl too often (`sleep(2)`)\n",
    "* use a library that will clean the HTML\n",
    "* beware that the structure of the webpage might change at ANY time (unlike APIs that are generally stable)\n",
    "\n",
    "\n",
    "### Simple example with BeautifulSoup HTML parser"
   ]
  },
  {
   "cell_type": "code",
   "execution_count": 1,
   "metadata": {
    "collapsed": false
   },
   "outputs": [
    {
     "name": "stdout",
     "output_type": "stream",
     "text": [
      "http://example.com/elsie\n",
      "http://example.com/lacie\n",
      "http://example.com/tillie\n"
     ]
    }
   ],
   "source": [
    "from bs4 import BeautifulSoup # pip install beautifulsoup4\n",
    "\n",
    "html_sample_doc = \"\"\"\n",
    "<html><head><title>The Dormouse's story</title></head>\n",
    "  <body>\n",
    "    <p class=\"title\"><b>The Dormouse's story</b></p>\n",
    "\n",
    "    <p class=\"story\">Once upon a time there were three little sisters; and their names were\n",
    "    <a href=\"http://example.com/elsie\" class=\"sister\" id=\"link1\">Elsie</a>,\n",
    "    <a href=\"http://example.com/lacie\" class=\"sister\" id=\"link2\">Lacie</a> and\n",
    "    <a href=\"http://example.com/tillie\" class=\"sister\" id=\"link3\">Tillie</a>;\n",
    "    and they lived at the bottom of a well.</p>\n",
    "\n",
    "    <p class=\"story\">...</p>\n",
    "  </body>\n",
    "</html>\n",
    "\"\"\"\n",
    "\n",
    "soup = BeautifulSoup(html_sample_doc, 'html.parser') # does all the parsing\n",
    "\n",
    "for link in soup.find_all('a'):                      # searching for a particular tag\n",
    "    print(link.get('href'))                          # get properties"
   ]
  },
  {
   "cell_type": "markdown",
   "metadata": {},
   "source": [
    "----\n",
    "\n",
    "### 2nd Example: PubMed Similar Articles\n",
    "\n",
    "In this case, we want to access PubMed's links on the right box ('Similar articles\")\n",
    "\n",
    "![pubmed_similar](pubmed_similar.png)\n",
    "\n",
    "Since the side bar is loaded with an additional asynchronous (Javascript) request, one needs to \n",
    "\n",
    "* maintain a web-scraping session using requests.Session\n",
    "* parse the url that is used for getting the side bar\n",
    "* follow that link and get the links from the div with class=\"portlet_content\""
   ]
  },
  {
   "cell_type": "code",
   "execution_count": 2,
   "metadata": {
    "collapsed": false
   },
   "outputs": [
    {
     "name": "stdout",
     "output_type": "stream",
     "text": [
      "0 The metabolite 5'-methylthioadenosine signals through the adenosine receptor A2B in melanoma. http://www.ncbi.nlm.nih.gov/pubmed/25087184\n",
      "1 Down-regulation of methylthioadenosine phosphorylase (MTAP) induces progression of hepatocellular carcinoma via accumulation of 5'-deoxy-5'-methylthioadenosine (MTA). http://www.ncbi.nlm.nih.gov/pubmed/21356366\n",
      "2 Quantitative analysis of 5'-deoxy-5'-methylthioadenosine in melanoma cells by liquid chromatography-stable isotope ratio tandem mass spectrometry. http://www.ncbi.nlm.nih.gov/pubmed/18996776\n",
      "3 Review Protein arginine methylation of non-histone proteins and its role in diseases. http://www.ncbi.nlm.nih.gov/pubmed/24296620\n",
      "4 Review Plant PRMTs broaden the scope of arginine methylation. http://www.ncbi.nlm.nih.gov/pubmed/22624881\n",
      "5 Aryl Pyrazoles as Potent Inhibitors of Arginine Methyltransferases: Identification of the First PRMT6 Tool Compound. http://www.ncbi.nlm.nih.gov/pubmed/26101569\n",
      "6 PRMT1 Is a Novel Regulator of Epithelial-Mesenchymal-Transition in Non-small Cell Lung Cancer. http://www.ncbi.nlm.nih.gov/pubmed/25847239\n",
      "7 PELP1 oncogenic functions involve alternative splicing via PRMT6. http://www.ncbi.nlm.nih.gov/pubmed/24447537\n",
      "8 Articles frequently viewed together http://www.ncbi.nlm.nih.gov/pubmed?LinkName=pubmed_pubmed_alsoviewed&from_uid=23265702\n",
      "9 Gene http://www.ncbi.nlm.nih.gov/gene?LinkName=pubmed_gene&from_uid=23265702\n",
      "10 Gene (GeneRIF) http://www.ncbi.nlm.nih.gov/gene?LinkName=pubmed_gene_rif&from_uid=23265702\n",
      "11 HomoloGene http://www.ncbi.nlm.nih.gov/homologene?LinkName=pubmed_homologene&from_uid=23265702\n",
      "12 MedGen http://www.ncbi.nlm.nih.gov/medgen?LinkName=pubmed_medgen&from_uid=23265702\n",
      "13 Nucleotide (RefSeq) http://www.ncbi.nlm.nih.gov/nuccore?LinkName=pubmed_nuccore_refseq&from_uid=23265702\n",
      "14 Nucleotide (Weighted) http://www.ncbi.nlm.nih.gov/nuccore?LinkName=pubmed_nuccore_weighted&from_uid=23265702\n",
      "15 Protein (RefSeq) http://www.ncbi.nlm.nih.gov/protein?LinkName=pubmed_protein_refseq&from_uid=23265702\n",
      "16 Protein (Weighted) http://www.ncbi.nlm.nih.gov/protein?LinkName=pubmed_protein_weighted&from_uid=23265702\n",
      "17 PubChem Compound (MeSH Keyword) http://www.ncbi.nlm.nih.gov/pccompound?LinkName=pubmed_pccompound_mesh&from_uid=23265702\n",
      "18 PubChem Substance (MeSH Keyword) http://www.ncbi.nlm.nih.gov/pcsubstance?LinkName=pubmed_pcsubstance_mesh&from_uid=23265702\n",
      "19 Taxonomy via GenBank http://www.ncbi.nlm.nih.gov/taxonomy?LinkName=pubmed_taxonomy_entrez&from_uid=23265702\n",
      "20 UniGene http://www.ncbi.nlm.nih.gov/unigene?LinkName=pubmed_unigene&from_uid=23265702\n",
      "21 GEO Profiles http://www.ncbi.nlm.nih.gov/geoprofiles?LinkName=pubmed_geoprofiles&from_uid=23265702\n",
      "22 Cited in PMC http://www.ncbi.nlm.nih.gov/pmc/articles/pmid/23265702/citedby/?tool=pubmed\n"
     ]
    }
   ],
   "source": [
    "from urlparse import urljoin\n",
    "from bs4 import BeautifulSoup\n",
    "import requests # pip install requests\n",
    "\n",
    "base_url = 'http://www.ncbi.nlm.nih.gov'\n",
    "website = base_url + '/pubmed/?term=mtap+prmt'\n",
    "\n",
    "# parse the main page and grab the link to the side bar\n",
    "session = requests.Session()\n",
    "soup = BeautifulSoup(session.get(website).content, 'html.parser')\n",
    "\n",
    "# this \"XPath\" can be found by inspecting the website source code\n",
    "url = urljoin(base_url, soup.select('div#disc_col a.disc_col_ph')[0]['href'])\n",
    "\n",
    "# parsing the side bar\n",
    "soup = BeautifulSoup(session.get(url).content, 'html.parser')\n",
    "\n",
    "for i, a in enumerate(soup.select('div.portlet_content ul li.brieflinkpopper a')):\n",
    "    print i, a.text, urljoin(base_url, a.get('href'))"
   ]
  },
  {
   "cell_type": "code",
   "execution_count": null,
   "metadata": {
    "collapsed": true
   },
   "outputs": [],
   "source": []
  }
 ],
 "metadata": {
  "kernelspec": {
   "display_name": "Python 2",
   "language": "python",
   "name": "python2"
  },
  "language_info": {
   "codemirror_mode": {
    "name": "ipython",
    "version": 2
   },
   "file_extension": ".py",
   "mimetype": "text/x-python",
   "name": "python",
   "nbconvert_exporter": "python",
   "pygments_lexer": "ipython2",
   "version": "2.7.10"
  }
 },
 "nbformat": 4,
 "nbformat_minor": 0
}
