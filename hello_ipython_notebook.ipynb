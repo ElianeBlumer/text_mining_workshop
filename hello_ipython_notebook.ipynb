{
 "cells": [
  {
   "cell_type": "markdown",
   "metadata": {},
   "source": [
    "# ipython notebook\n",
    "\n",
    "\n",
    "* to experiment, sketch\n",
    "* to document your process\n",
    "* to share and illustrate\n",
    "\n",
    "\n",
    "Use shift-enter to run the code in the cell"
   ]
  },
  {
   "cell_type": "code",
   "execution_count": 1,
   "metadata": {
    "collapsed": false
   },
   "outputs": [
    {
     "data": {
      "text/plain": [
       "'hello world'"
      ]
     },
     "execution_count": 1,
     "metadata": {},
     "output_type": "execute_result"
    }
   ],
   "source": [
    "h = 'hello world'\n",
    "h # last variable gets printed"
   ]
  },
  {
   "cell_type": "code",
   "execution_count": 2,
   "metadata": {
    "collapsed": false
   },
   "outputs": [
    {
     "data": {
      "text/plain": [
       "4"
      ]
     },
     "execution_count": 2,
     "metadata": {},
     "output_type": "execute_result"
    }
   ],
   "source": [
    "1 + 3 "
   ]
  },
  {
   "cell_type": "code",
   "execution_count": 4,
   "metadata": {
    "collapsed": false
   },
   "outputs": [
    {
     "data": {
      "text/plain": [
       "'three'"
      ]
     },
     "execution_count": 4,
     "metadata": {},
     "output_type": "execute_result"
    }
   ],
   "source": [
    "l = ['one', 'two', 'three']\n",
    "l[-1]"
   ]
  },
  {
   "cell_type": "code",
   "execution_count": 6,
   "metadata": {
    "collapsed": false
   },
   "outputs": [
    {
     "name": "stdout",
     "output_type": "stream",
     "text": [
      "20151126_epfl-library_text-mining.pdf  \u001b[1m\u001b[34m3c_pubmed_crawl_webpage\u001b[m\u001b[m                \u001b[1m\u001b[34m5_your_usecases\u001b[m\u001b[m\r\n",
      "20151126_epfl-library_text-mining.pptx \u001b[1m\u001b[34m4a_text_processing_nltk\u001b[m\u001b[m                INSTALLATION.md\r\n",
      "\u001b[1m\u001b[34m2a_basics_unix_tools\u001b[m\u001b[m                   \u001b[1m\u001b[34m4b_fulltext_elasticsearch\u001b[m\u001b[m              README.md\r\n",
      "2b_regular_expressions.txt             \u001b[1m\u001b[34m4c_a_sense_of_machine_learning\u001b[m\u001b[m         hello_ipython_notebook.ipynb\r\n",
      "\u001b[1m\u001b[34m3b_pubmed_rest_api\u001b[m\u001b[m                     \u001b[1m\u001b[34m4d_semantic_similarity_word2vec\u001b[m\u001b[m\r\n"
     ]
    }
   ],
   "source": [
    "# bash commands work as well (don't abuse...)\n",
    "!ls"
   ]
  },
  {
   "cell_type": "code",
   "execution_count": null,
   "metadata": {
    "collapsed": true
   },
   "outputs": [],
   "source": []
  }
 ],
 "metadata": {
  "kernelspec": {
   "display_name": "Python 2",
   "language": "python",
   "name": "python2"
  },
  "language_info": {
   "codemirror_mode": {
    "name": "ipython",
    "version": 2
   },
   "file_extension": ".py",
   "mimetype": "text/x-python",
   "name": "python",
   "nbconvert_exporter": "python",
   "pygments_lexer": "ipython2",
   "version": "2.7.10"
  }
 },
 "nbformat": 4,
 "nbformat_minor": 0
}
