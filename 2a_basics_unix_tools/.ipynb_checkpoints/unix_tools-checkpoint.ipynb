{
 "cells": [
  {
   "cell_type": "markdown",
   "metadata": {
    "collapsed": false
   },
   "source": [
    "# Unix tools\n",
    "\n",
    "(install Jupyter Bash support with `python -m bash_kernel.install` and reload the kernel)\n",
    "\n",
    "A few handful Unix tools that I use quite frequently:"
   ]
  },
  {
   "cell_type": "markdown",
   "metadata": {},
   "source": [
    "### wget: downloading a file"
   ]
  },
  {
   "cell_type": "code",
   "execution_count": 7,
   "metadata": {
    "collapsed": false
   },
   "outputs": [
    {
     "name": "stdout",
     "output_type": "stream",
     "text": [
      "--2015-11-19 15:12:54--  http://www.gutenberg.org/cache/epub/11/pg11.txt\r\n",
      "Resolving www.gutenberg.org... 152.19.134.47\r\n",
      "Connecting to www.gutenberg.org|152.19.134.47|:80... connected.\r\n",
      "HTTP request sent, awaiting response... 200 OK\r\n",
      "Length: 167518 (164K) [text/plain]\r\n",
      "Saving to: 'alice.txt'\r\n",
      "\r\n",
      "\r",
      "alice.txt             0%[                      ]       0  --.-KB/s             \r",
      "alice.txt            21%[===>                  ]  35.58K   123KB/s             \r",
      "alice.txt            35%[======>               ]  58.29K   109KB/s             \r",
      "alice.txt            84%[=================>    ] 138.45K   168KB/s             \r",
      "alice.txt           100%[=====================>] 163.59K   186KB/s   in 0.9s   \r\n",
      "\r\n",
      "2015-11-19 15:12:55 (186 KB/s) - 'alice.txt' saved [167518/167518]\r\n",
      "\r\n"
     ]
    }
   ],
   "source": [
    "wget http://www.gutenberg.org/cache/epub/11/pg11.txt -O alice.txt"
   ]
  },
  {
   "cell_type": "code",
   "execution_count": 11,
   "metadata": {
    "collapsed": false
   },
   "outputs": [
    {
     "name": "stdout",
     "output_type": "stream",
     "text": [
      "total 992\r\n",
      "drwxr-xr-x  7 richarde  10067     238 Nov 19 15:13 \u001b[1m\u001b[34m.\u001b[39;49m\u001b[0m\r\n",
      "drwxr-xr-x  8 richarde  10067     272 Nov 19 15:06 \u001b[1m\u001b[34m..\u001b[39;49m\u001b[0m\r\n",
      "drwxr-xr-x  3 richarde  10067     102 Nov 19 15:13 \u001b[1m\u001b[34m.ipynb_checkpoints\u001b[39;49m\u001b[0m\r\n",
      "-rw-r--r--  1 richarde  10067  167518 Nov 19 15:12 alice.txt\r\n",
      "-rw-r--r--  1 richarde  10067  167518 Nov 19 15:11 pg11.txt\r\n",
      "-rw-r--r--  1 richarde  10067  167518 Nov 19 15:12 pg11.txt.1\r\n",
      "-rw-r--r--  1 richarde  10067    2882 Nov 19 15:13 unix_tools.ipynb\r\n"
     ]
    }
   ],
   "source": [
    "ls -al"
   ]
  },
  {
   "cell_type": "markdown",
   "metadata": {},
   "source": [
    "### head | tail: peek at the first|last 4 lines of the file"
   ]
  },
  {
   "cell_type": "code",
   "execution_count": 10,
   "metadata": {
    "collapsed": false,
    "scrolled": true
   },
   "outputs": [
    {
     "name": "stdout",
     "output_type": "stream",
     "text": [
      "﻿Project Gutenberg's Alice's Adventures in Wonderland, by Lewis Carroll\r",
      "\r\n",
      "\r",
      "\r\n",
      "This eBook is for the use of anyone anywhere at no cost and with\r",
      "\r\n",
      "almost no restrictions whatsoever.  You may copy it, give it away or\r",
      "\r\n"
     ]
    }
   ],
   "source": [
    "head -n 4 alice.txt"
   ]
  },
  {
   "cell_type": "markdown",
   "metadata": {},
   "source": [
    "### grep: searching for text"
   ]
  },
  {
   "cell_type": "code",
   "execution_count": 14,
   "metadata": {
    "collapsed": false
   },
   "outputs": [
    {
     "name": "stdout",
     "output_type": "stream",
     "text": [
      "40:CHAPTER I. Down the Rabbit-Hole\r",
      "\r\n",
      "51:picking the daisies, when suddenly a White Rabbit with pink eyes ran\r",
      "\r\n",
      "55:VERY much out of the way to hear the Rabbit say to itself, 'Oh dear!\r",
      "\r\n",
      "58:it all seemed quite natural); but when the Rabbit actually TOOK A WATCH\r",
      "\r\n",
      "61:never before seen a rabbit with either a waistcoat-pocket, or a watch\r",
      "\r\n",
      "64:rabbit-hole under the hedge.\r",
      "\r\n",
      "69:The rabbit-hole went straight on like a tunnel for some way, and then\r",
      "\r\n",
      "130:long passage, and the White Rabbit was still in sight, hurrying down it.\r",
      "\r\n",
      "134:turned the corner, but the Rabbit was no longer to be seen: she found\r",
      "\r\n",
      "292:Rabbit returning, splendidly dressed, with a pair of white kid gloves in\r",
      "\r\n",
      "296:desperate that she was ready to ask help of any one; so, when the Rabbit\r",
      "\r\n",
      "298:The Rabbit started violently, dropped the white kid gloves and the fan,\r",
      "\r\n",
      "349:that she had put on one of the Rabbit's little white kid gloves while\r",
      "\r\n",
      "697:CHAPTER IV. The Rabbit Sends in a Little Bill\r",
      "\r\n",
      "699:It was the White Rabbit, trotting slowly back again, and looking\r",
      "\r\n",
      "710:Very soon the Rabbit noticed Alice, as she went hunting about, and\r",
      "\r\n",
      "727:a rabbit! I suppose Dinah'll be sending me on messages next!' And she\r",
      "\r\n",
      "767:rabbits. I almost wish I hadn't gone down that rabbit-hole--and yet--and\r",
      "\r\n",
      "789:the Rabbit coming to look for her, and she trembled till she shook the\r",
      "\r\n",
      "791:as the Rabbit, and had no reason to be afraid of it.\r",
      "\r\n",
      "793:Presently the Rabbit came up to the door, and tried to open it; but, as\r",
      "\r\n",
      "799:she heard the Rabbit just under the window, she suddenly spread out her\r",
      "\r\n",
      "805:Next came an angry voice--the Rabbit's--'Pat! Pat! Where are you?' And\r",
      "\r\n",
      "809:'Digging for apples, indeed!' said the Rabbit angrily. 'Here! Come and\r",
      "\r\n",
      "857:then the Rabbit's voice along--'Catch him, you by the hedge!' then\r",
      "\r\n",
      "869:'We must burn the house down!' said the Rabbit's voice; and Alice called\r",
      "\r\n",
      "875:Alice heard the Rabbit say, 'A barrowful will do, to begin with.'\r",
      "\r\n",
      "1960:them Alice recognised the White Rabbit: it was talking in a hurried\r",
      "\r\n",
      "2043:walking by the White Rabbit, who was peeping anxiously into her face.\r",
      "\r\n",
      "2047:'Hush! Hush!' said the Rabbit in a low, hurried tone. He looked\r",
      "\r\n",
      "2054:'Did you say \"What a pity!\"?' the Rabbit asked.\r",
      "\r\n",
      "2059:'She boxed the Queen's ears--' the Rabbit began. Alice gave a little\r",
      "\r\n",
      "2060:scream of laughter. 'Oh, hush!' the Rabbit whispered in a frightened\r",
      "\r\n",
      "2702:saw the White Rabbit. She was a little nervous about it just at first,\r",
      "\r\n",
      "2835:him; and near the King was the White Rabbit, with a trumpet in one hand,\r",
      "\r\n",
      "2868:hastily, for the White Rabbit cried out, 'Silence in the court!' and the\r",
      "\r\n",
      "2888:On this the White Rabbit blew three blasts on the trumpet, and then\r",
      "\r\n",
      "2898:'Not yet, not yet!' the Rabbit hastily interrupted. 'There's a great\r",
      "\r\n",
      "2901:'Call the first witness,' said the King; and the White Rabbit blew three\r",
      "\r\n",
      "3054:The King looked anxiously at the White Rabbit, who said in a low voice,\r",
      "\r\n",
      "3078:Alice watched the White Rabbit as he fumbled over the list, feeling very\r",
      "\r\n",
      "3081:the White Rabbit read out, at the top of his shrill little voice, the\r",
      "\r\n",
      "3130:just beginning to write this down on their slates, when the White Rabbit\r",
      "\r\n",
      "3167:Rabbit, jumping up in a great hurry; 'this paper has just been picked\r",
      "\r\n",
      "3172:'I haven't opened it yet,' said the White Rabbit, 'but it seems to be a\r",
      "\r\n",
      "3180:'It isn't directed at all,' said the White Rabbit; 'in fact, there's\r",
      "\r\n",
      "3186:'No, they're not,' said the White Rabbit, 'and that's the queerest thing\r",
      "\r\n",
      "3209:The White Rabbit put on his spectacles. 'Where shall I begin, please\r",
      "\r\n",
      "3215:These were the verses the White Rabbit read:--\r",
      "\r\n",
      "3338:The long grass rustled at her feet as the White Rabbit hurried by--the\r",
      "\r\n"
     ]
    }
   ],
   "source": [
    "grep -n -e \"[rR]abbit\" alice.txt"
   ]
  },
  {
   "cell_type": "markdown",
   "metadata": {},
   "source": [
    "### wc: counting words"
   ]
  },
  {
   "cell_type": "code",
   "execution_count": 18,
   "metadata": {
    "collapsed": false
   },
   "outputs": [
    {
     "name": "stdout",
     "output_type": "stream",
     "text": [
      "    3735   29461  167518 alice.txt\r\n"
     ]
    }
   ],
   "source": [
    "wc alice.txt"
   ]
  },
  {
   "cell_type": "code",
   "execution_count": 16,
   "metadata": {
    "collapsed": false
   },
   "outputs": [
    {
     "name": "stdout",
     "output_type": "stream",
     "text": [
      "    3735 alice.txt\r\n"
     ]
    }
   ],
   "source": [
    "# nr. of lines only\n",
    "wc -l alice.txt"
   ]
  },
  {
   "cell_type": "markdown",
   "metadata": {},
   "source": [
    "### pipes: connecting and chaining tools"
   ]
  },
  {
   "cell_type": "code",
   "execution_count": 21,
   "metadata": {
    "collapsed": false
   },
   "outputs": [
    {
     "name": "stdout",
     "output_type": "stream",
     "text": [
      "     396\r\n"
     ]
    }
   ],
   "source": [
    "grep \"Alice\" alice.txt | wc -l"
   ]
  },
  {
   "cell_type": "markdown",
   "metadata": {},
   "source": [
    "### cut: selecting rows"
   ]
  },
  {
   "cell_type": "code",
   "execution_count": 27,
   "metadata": {
    "collapsed": false
   },
   "outputs": [
    {
     "name": "stdout",
     "output_type": "stream",
     "text": [
      "       5\r\n"
     ]
    }
   ],
   "source": [
    "# print 3rd column       | search for NJ | count occurrences\n",
    "cut -d, -f3 banklist.csv | grep NJ       | wc -l"
   ]
  },
  {
   "cell_type": "markdown",
   "metadata": {},
   "source": [
    "### sort and uniq: creating a histogram"
   ]
  },
  {
   "cell_type": "code",
   "execution_count": 25,
   "metadata": {
    "collapsed": false
   },
   "outputs": [
    {
     "name": "stdout",
     "output_type": "stream",
     "text": [
      "1543 the\r\n",
      "1293 \r\n",
      " 945 \r",
      "\r\n",
      " 733 to\r\n",
      " 726 and\r\n",
      " 619 a\r\n",
      " 562 of\r\n",
      " 450 she\r\n",
      " 403 said\r\n",
      " 373 in\r\n"
     ]
    }
   ],
   "source": [
    "# concatenate | split at space | sort | count unique words | sort by most frequent | print top 10\n",
    "cat alice.txt | tr \" \" \"\\n\"    | sort | uniq -c            | sort -nr              | head -n 10"
   ]
  },
  {
   "cell_type": "code",
   "execution_count": null,
   "metadata": {
    "collapsed": true
   },
   "outputs": [],
   "source": []
  }
 ],
 "metadata": {
  "kernelspec": {
   "display_name": "Bash",
   "language": "bash",
   "name": "bash"
  },
  "language_info": {
   "codemirror_mode": "shell",
   "file_extension": ".sh",
   "mimetype": "text/x-sh",
   "name": "bash"
  }
 },
 "nbformat": 4,
 "nbformat_minor": 0
}
