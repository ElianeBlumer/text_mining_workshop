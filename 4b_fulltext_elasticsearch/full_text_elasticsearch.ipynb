{
 "cells": [
  {
   "cell_type": "markdown",
   "metadata": {},
   "source": [
    "# Full-text search with Elasticsearch\n",
    "\n",
    "\n",
    "### Inverted index\n",
    "\n",
    "<img src=\"inverted_index.jpeg\" alt=\"\" style=\"width: 600px;\"/>\n",
    "\n",
    "* just like in a book's index\n",
    "* commonly used search engine structure\n",
    "* efficient lookup of terms\n",
    "* usually stores positional information to enable phrase/proximity searches\n",
    "\n",
    "### Indexing and Searching\n",
    "\n",
    "<img src=\"indexing_searching.jpg\" alt=\"\" style=\"width: 400px;\"/>\n",
    "\n",
    "\n",
    "### Installing Elasticsearch\n",
    "\n",
    "Elasticsearch is an open source search server. It provides a distributed, full-text search engine with a HTTP web interface and schema-free JSON documents. [documentation](https://www.elastic.co/guide/en/elasticsearch/guide/current/index.html)\n",
    "\n",
    "Make sure you have a recent Java runtime installed (else [install Java](https://java.com/en/download/help/download_options.xml))\n",
    "\n",
    "    java -version\n",
    "\n",
    "Download Elasticsearch server from https://www.elastic.co/downloads/elasticsearch, e.g.:\n",
    "\n",
    "    wget https://download.elasticsearch.org/elasticsearch/release/org/elasticsearch/distribution/zip/elasticsearch/2.1.0/elasticsearch-2.1.0.zip\n",
    "    unzip elasticsearch-2.1.0.zip \n",
    "    \n",
    "Change the cluster name, give it a unique one\n",
    "\n",
    "* edit the file `elasticsearch-2.1.0/config/elasticsearch.yml`\n",
    "* uncomment and change line 17 from \n",
    "  * `# cluster.name: my-application` \n",
    "  * to \n",
    "  * `cluster.name: a-unique-name-here`\n",
    "    \n",
    "Start Elasticsearch. The last command starts the Elasticsearch server; leave that terminal open and running.\n",
    "\n",
    "    cd elasticsearch-2.1.0/bin/\n",
    "    ./elasticsearch (*nix)   elasticsearch.bat (windows)\n",
    "\n",
    "To interact with ES, we will use ES's Python API ([documentation](https://elasticsearch-py.readthedocs.org/en/master/)), install it as usual\n",
    "\n",
    "    pip install elasticsearch\n",
    "    \n",
    "Let's start by indexing and searching a single document into ElasticSearch:"
   ]
  },
  {
   "cell_type": "code",
   "execution_count": 21,
   "metadata": {
    "collapsed": false
   },
   "outputs": [
    {
     "name": "stdout",
     "output_type": "stream",
     "text": [
      "document created: True\n",
      "Got 3 Hits:\n",
      "[2015-11-26T12:23:12.368181]   epfl: The Library is the centre of expertise for scientific and technical information, serving teaching and research at EPFL\n",
      "[2015-11-26T12:25:57.100934]   epfl: The Library is the centre of expertise for scientific and technical information, serving teaching and research at EPFL\n",
      "[2015-11-26T12:26:03.614211]   epfl: The Library is the centre of expertise for scientific and technical information, serving teaching and research at EPFL\n"
     ]
    }
   ],
   "source": [
    "from __future__ import print_function\n",
    "from datetime import datetime\n",
    "from elasticsearch import Elasticsearch\n",
    "\n",
    "# get a connection to Elasticsearch server\n",
    "es = Elasticsearch()\n",
    "\n",
    "# index one document\n",
    "doc = {\n",
    "    'author': 'epfl',\n",
    "    'text': 'The Library is the centre of expertise for scientific and technical information, serving teaching and research at EPFL',\n",
    "    'timestamp': datetime.now(),\n",
    "}\n",
    "res = es.index(index=\"test-index\", doc_type='test_doc', id=1, body=doc)\n",
    "print('document created:', res['created'])\n",
    "\n",
    "# now search for it\n",
    "es.indices.refresh(index=\"test-index\")\n",
    "res = es.search(index=\"test-index\", body={\"query\": {\"match_all\": {}}})\n",
    "print(\"Got %d Hits:\" % res['hits']['total'])\n",
    "for hit in res['hits']['hits']:\n",
    "    print(\"[%(timestamp)s]   %(author)s: %(text)s\" % hit[\"_source\"])"
   ]
  },
  {
   "cell_type": "markdown",
   "metadata": {},
   "source": [
    "### Indexing more document"
   ]
  },
  {
   "cell_type": "code",
   "execution_count": 22,
   "metadata": {
    "collapsed": false
   },
   "outputs": [
    {
     "name": "stdout",
     "output_type": "stream",
     "text": [
      "indexing document  26174762\n",
      "indexed document:  26174762 True\n",
      "indexing document  26577528\n",
      "indexed document:  26577528 True\n",
      "indexing document  25752701\n",
      "indexed document:  25752701 True\n",
      "indexing document  26291961\n",
      "indexed document:  26291961 True\n",
      "indexing document  26464464\n",
      "indexed document:  26464464 True\n",
      "indexing document  26430901\n",
      "indexed document:  26430901 True\n",
      "indexing document  26463923\n",
      "indexed document:  26463923 True\n",
      "indexing document  26059022\n",
      "indexed document:  26059022 True\n",
      "indexing document  26174106\n",
      "indexed document:  26174106 True\n",
      "indexing document  26497429\n",
      "indexed document:  26497429 True\n",
      "indexing document  26583177\n",
      "indexed document:  26583177 True\n",
      "indexing document  26583176\n",
      "indexed document:  26583176 True\n",
      "indexing document  25263447\n",
      "indexed document:  25263447 True\n",
      "indexing document  26343523\n",
      "indexed document:  26343523 True\n",
      "indexing document  26408402\n",
      "indexed document:  26408402 True\n",
      "indexing document  25172038\n",
      "indexed document:  25172038 True\n",
      "indexing document  25728675\n",
      "indexed document:  25728675 True\n",
      "indexing document  25444901\n",
      "indexed document:  25444901 True\n",
      "indexing document  25788166\n",
      "indexed document:  25788166 True\n",
      "indexing document  25168242\n",
      "indexed document:  25168242 True\n",
      "indexing document  26250460\n",
      "indexed document:  26250460 True\n",
      "indexing document  26372730\n",
      "indexed document:  26372730 True\n",
      "indexing document  26598601\n",
      "indexed document:  26598601 True\n",
      "indexing document  25961449\n",
      "indexed document:  25961449 True\n",
      "indexing document  25573363\n",
      "indexed document:  25573363 True\n"
     ]
    }
   ],
   "source": [
    "import csv\n",
    "with open('../3b_pubmed_rest_api/pubmed_results.tsv') as f:\n",
    "    for pmid, title, authors, abstract in csv.reader(f, delimiter='\\t'):\n",
    "        doc = {\n",
    "            'authors'  : authors,\n",
    "            'pmid'     : pmid,\n",
    "            'title'    : title,\n",
    "            'abstract' : abstract,\n",
    "            'timestamp': datetime.now(),\n",
    "        }\n",
    "        res = es.index(index=\"test-index2\", doc_type='test_doc2', body=doc)\n",
    "        print('indexed document: ', pmid,  res['created'])"
   ]
  },
  {
   "cell_type": "code",
   "execution_count": 35,
   "metadata": {
    "collapsed": false
   },
   "outputs": [
    {
     "name": "stdout",
     "output_type": "stream",
     "text": [
      "searching for 'expression', got 2 hits:\n",
      "[25573363] Mdm2-dependent regulation of p53 expression during long-term potentiation. [Lisachev PD, Pustylnyak VO, Shtark MB.]\n",
      "[25788166] Significance of p53 expression in background endometrium in endometrial carcinoma. [Nguyen TT, Hachisuga T, Urabe R, Kurita T, Kagami S, Kawagoe T, Shimajiri S, Nabeshima K.]\n"
     ]
    }
   ],
   "source": [
    "from IPython.html.widgets import interact\n",
    "@interact(query=\"p53\")\n",
    "def search(query):\n",
    "    res = es.search(index=\"test-index2\", body={\"query\": {\"match\": {'title': query}}})\n",
    "\n",
    "    print(\"searching for '%s', got %d hits:\" % (query, res['hits']['total']))\n",
    "    for hit in res['hits']['hits']:\n",
    "        print(\"[%(pmid)s] %(title)s [%(authors)s]\" % hit[\"_source\"])"
   ]
  },
  {
   "cell_type": "code",
   "execution_count": null,
   "metadata": {
    "collapsed": true
   },
   "outputs": [],
   "source": []
  }
 ],
 "metadata": {
  "kernelspec": {
   "display_name": "Python 2",
   "language": "python",
   "name": "python2"
  },
  "language_info": {
   "codemirror_mode": {
    "name": "ipython",
    "version": 2
   },
   "file_extension": ".py",
   "mimetype": "text/x-python",
   "name": "python",
   "nbconvert_exporter": "python",
   "pygments_lexer": "ipython2",
   "version": "2.7.10"
  }
 },
 "nbformat": 4,
 "nbformat_minor": 0
}
