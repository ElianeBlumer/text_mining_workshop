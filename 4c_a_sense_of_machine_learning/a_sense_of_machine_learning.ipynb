{
 "cells": [
  {
   "cell_type": "code",
   "execution_count": 13,
   "metadata": {
    "collapsed": true
   },
   "outputs": [],
   "source": [
    "import nltk\n",
    "from __future__ import print_function\n",
    "from nltk.classify import apply_features"
   ]
  },
  {
   "cell_type": "markdown",
   "metadata": {},
   "source": [
    "# A sense of machine learning\n",
    "\n",
    "We will try a simple example of text classification. The examples below come from the [excellent NLTK book](http://www.nltk.org/book/ch06.html)\n",
    "\n",
    "Detecting patterns is a central part of Natural Language Processing. Words ending in \"-ed\" tend to be past tense verbs. Frequent use of \"will\" is indicative of news text. These observable patterns — word structure and word frequency — happen to correlate with particular aspects of meaning, such as tense and topic. But how did we know where to start looking, which aspects of form to associate with which aspects of meaning?\n",
    "\n",
    "In this notebook, we tackle the following questions:\n",
    "\n",
    "* How can we identify particular features of language data that are salient for classifying it?\n",
    "* How can we construct models of language that can be used to perform language processing tasks automatically?\n",
    "* What can we learn about language from these models?\n",
    "\n",
    "\n",
    "## Supervised Classification\n",
    "\n",
    "Classification is the task of choosing the correct class label for a given input. In basic classification tasks, each input is considered in isolation from all other inputs, and the set of labels is defined in advance. Some examples of classification tasks are:\n",
    "\n",
    "* Deciding whether an email is spam or not\n",
    "* Deciding what the topic of a news article is, from a fixed list of topic areas such as \"sports,\" \"technology,\" and \"politics\"\n",
    "* Deciding whether a given occurrence of the word *bank* is used to refer to a river bank, a financial institution, the act of tilting to the side, or the act of depositing something in a financial institution\n",
    "\n",
    "A classifier is called *supervised* if it is built based on training corpora containing the correct label for each input. The framework used by supervised classification is shown below:\n",
    "\n",
    "<img src=\"supervised-classification.png\" alt=\"\" style=\"width: 400px;\"/>\n",
    "\n",
    "* (a) During training, a feature extractor is used to convert each input value to a feature set. These feature sets, which capture the basic information about each input that should be used to classify it, are discussed in the next section. Pairs of feature sets and labels are fed into the machine learning algorithm to generate a model. \n",
    "* (b) During prediction, the same feature extractor is used to convert unseen inputs to feature sets. These feature sets are then fed into the model, which generates predicted labels.\n",
    "\n",
    "\n",
    "## Example: Gender Identification\n",
    "\n",
    "In the rest of this notebook, we will look at how  a supervised classifier can be employed to identify the gender of a proper name.\n",
    "\n",
    "Male and female names have some distinctive characteristics. Names ending in a, e and i are likely to be female, while names ending in k, o, r, s and t are likely to be male. Let's build a classifier to model these differences more precisely.\n",
    "\n",
    "The first step in creating a classifier is deciding what features of the input are relevant, and how to encode those features. For this example, we'll start by just looking at the final letter of a given name. The following `gender_features()` feature extractor function builds a dictionary containing relevant information about a given name:    "
   ]
  },
  {
   "cell_type": "code",
   "execution_count": 14,
   "metadata": {
    "collapsed": false
   },
   "outputs": [
    {
     "data": {
      "text/plain": [
       "{'last_letter': 'k'}"
      ]
     },
     "execution_count": 14,
     "metadata": {},
     "output_type": "execute_result"
    }
   ],
   "source": [
    "def gender_features(word):\n",
    "    return {'last_letter': word[-1]}\n",
    "gender_features('Shrek')"
   ]
  },
  {
   "cell_type": "markdown",
   "metadata": {},
   "source": [
    "The returned dictionary, known as a feature set, maps from feature names to their values. Feature names are case-sensitive strings that typically provide a short human-readable description of the feature, as in the example 'last_letter'. Feature values are values with simple types, such as booleans, numbers, and strings.\n",
    "\n",
    "Now that we've defined a feature extractor, we need to prepare a list of examples and corresponding class labels. "
   ]
  },
  {
   "cell_type": "code",
   "execution_count": 15,
   "metadata": {
    "collapsed": false
   },
   "outputs": [
    {
     "name": "stdout",
     "output_type": "stream",
     "text": [
      "male names: [u'Aamir', u'Aaron', u'Abbey', u'Abbie', u'Abbot', u'Abbott', u'Abby']\n"
     ]
    }
   ],
   "source": [
    "import nltk\n",
    "from nltk.corpus import names\n",
    "print('male names:', names.words('male.txt')[:7])\n",
    "\n",
    "labeled_names = ([(name, 'male') for name in names.words('male.txt')] +\n",
    "    [(name, 'female') for name in names.words('female.txt')])\n",
    "\n",
    "import random\n",
    "random.shuffle(labeled_names)"
   ]
  },
  {
   "cell_type": "markdown",
   "metadata": {},
   "source": [
    "Next, we use the `gender_features()` feature extractor to process the names data, and divide the resulting list of feature sets into a training set and a test set. The training set is used to train a new \"naive Bayes\" classifier.  "
   ]
  },
  {
   "cell_type": "code",
   "execution_count": 16,
   "metadata": {
    "collapsed": false
   },
   "outputs": [
    {
     "name": "stdout",
     "output_type": "stream",
     "text": [
      "accuracy:  0.768\n",
      "Neo:       male\n",
      "Trinity:   female\n"
     ]
    }
   ],
   "source": [
    "train_set = apply_features(gender_features, labeled_names[500:])\n",
    "test_set = apply_features(gender_features, labeled_names[:500])\n",
    "\n",
    "classifier = nltk.NaiveBayesClassifier.train(train_set)\n",
    "print('accuracy: ', nltk.classify.accuracy(classifier, test_set))\n",
    "\n",
    "# test it out on some names that did not appear in its training data:   \n",
    "print('Neo:      ', classifier.classify(gender_features('Neo')))\n",
    "print('Trinity:  ', classifier.classify(gender_features('Trinity')))"
   ]
  },
  {
   "cell_type": "markdown",
   "metadata": {},
   "source": [
    "Observe that these character names from The Matrix are correctly classified. Although this science fiction movie is set in 2199, it still conforms with our expectations about names and genders. We can systematically evaluate the classifier on a much larger quantity of unseen data:    \n",
    "\n",
    "Finally, we can examine the classifier to determine which features it found most effective for distinguishing the names' genders:"
   ]
  },
  {
   "cell_type": "code",
   "execution_count": 17,
   "metadata": {
    "collapsed": false
   },
   "outputs": [
    {
     "name": "stdout",
     "output_type": "stream",
     "text": [
      "Most Informative Features\n",
      "             last_letter = u'a'           female : male   =     34.3 : 1.0\n",
      "             last_letter = u'k'             male : female =     32.0 : 1.0\n",
      "             last_letter = u'f'             male : female =     16.8 : 1.0\n",
      "             last_letter = u'p'             male : female =     12.7 : 1.0\n",
      "             last_letter = u'v'             male : female =     10.6 : 1.0\n"
     ]
    }
   ],
   "source": [
    "classifier.show_most_informative_features(5)"
   ]
  },
  {
   "cell_type": "markdown",
   "metadata": {},
   "source": [
    "This listing shows that the names in the training set that end in `a` are female 33 times more often than they are male, but names that end in `k` are male 32 times more often than they are female. These ratios are known as likelihood ratios, and can be useful for comparing different feature-outcome relationships.\n",
    "\n",
    "## Your Turn\n",
    "\n",
    "Modify the `gender_features()` function to provide the classifier with features encoding the length of the name, its first letter, and any other features that seem like they might be informative. Retrain the classifier with these new features, and test its accuracy."
   ]
  },
  {
   "cell_type": "markdown",
   "metadata": {},
   "source": [
    "---\n",
    "\n",
    "##  Choosing The Right Features\n",
    "\n",
    "Selecting relevant features and deciding how to encode them for a learning method can have an enormous impact on the learning method's ability to extract a good model. Much of the interesting work in building a classifier is deciding what features might be relevant, and how we can represent them. Although it's often possible to get decent performance by using a fairly simple and obvious set of features, there are usually significant gains to be had by using carefully constructed features based on a thorough understanding of the task at hand.\n",
    "\n",
    "Typically, feature extractors are built through a process of trial-and-error, guided by intuitions about what information is relevant to the problem. It's common to start with a \"kitchen sink\" approach, including all the features that you can think of, and then checking to see which features actually are helpful. We take this approach for `gender_features2()` below.\n",
    "\n",
    "However, there are usually limits to the number of features that you should use with a given learning algorithm — if you provide too many features, then the algorithm will have a higher chance of relying on idiosyncrasies of your training data that don't generalize well to new examples. This problem is known as **overfitting**, and can be especially problematic when working with small training sets. For example, if we train a naive Bayes classifier using the feature extractor below, it has too many features and will overfit the relatively small training set, resulting in a system whose accuracy is about 1% lower than the accuracy of a classifier that only pays attention to the final letter of each name:"
   ]
  },
  {
   "cell_type": "code",
   "execution_count": 18,
   "metadata": {
    "collapsed": false
   },
   "outputs": [
    {
     "name": "stdout",
     "output_type": "stream",
     "text": [
      "features2 for John {'count(u)': 0, 'has(d)': False, 'count(b)': 0, 'count(w)': 0, 'has(b)': False, 'count(l)': 0, 'count(q)': 0, 'count(n)': 1, 'has(j)': True, 'count(s)': 0, 'count(h)': 1, 'has(h)': True, 'has(y)': False, 'count(j)': 1, 'has(f)': False, 'has(o)': True, 'count(x)': 0, 'has(m)': False, 'count(z)': 0, 'has(k)': False, 'has(u)': False, 'count(d)': 0, 'has(s)': False, 'count(m)': 0, 'count(f)': 0, 'has(q)': False, 'has(w)': False, 'has(e)': False, 'has(z)': False, 'count(t)': 0, 'count(c)': 0, 'has(c)': False, 'has(x)': False, 'count(v)': 0, 'has(a)': False, 'last_letter': 'n', 'has(v)': False, 'count(p)': 0, 'count(o)': 1, 'first_letter': 'j', 'has(i)': False, 'count(i)': 0, 'has(r)': False, 'has(g)': False, 'count(k)': 0, 'count(y)': 0, 'has(n)': True, 'has(l)': False, 'count(e)': 0, 'has(t)': False, 'count(g)': 0, 'count(r)': 0, 'count(a)': 0, 'has(p)': False}\n",
      "\n",
      "features2 accuracy 0.744\n"
     ]
    }
   ],
   "source": [
    "def gender_features2(name):\n",
    "    features = {}\n",
    "    features[\"first_letter\"] = name[0].lower()\n",
    "    features[\"last_letter\"] = name[-1].lower()\n",
    "    for letter in 'abcdefghijklmnopqrstuvwxyz':\n",
    "        features[\"count({})\".format(letter)] = name.lower().count(letter)\n",
    "        features[\"has({})\".format(letter)] = (letter in name.lower())\n",
    "    return features\n",
    "    \n",
    "print('features2 for John', gender_features2('John'))\n",
    "\n",
    "train_set2 = apply_features(gender_features2, labeled_names[500:])\n",
    "test_set2 = apply_features(gender_features2, labeled_names[:500])\n",
    "classifier2 = nltk.NaiveBayesClassifier.train(train_set2)\n",
    "print('\\nfeatures2 accuracy', nltk.classify.accuracy(classifier2, test_set2))"
   ]
  },
  {
   "cell_type": "markdown",
   "metadata": {},
   "source": [
    "## Error analysis\n",
    "\n",
    "Once an initial set of features has been chosen, a very productive method for refining the feature set is error analysis. First, we select a development set, containing the corpus data for creating the model. This development set is then subdivided into the training set and the dev-test set.   "
   ]
  },
  {
   "cell_type": "code",
   "execution_count": 19,
   "metadata": {
    "collapsed": true
   },
   "outputs": [],
   "source": [
    "train_names = labeled_names[1500:]\n",
    "devtest_names = labeled_names[500:1500]\n",
    "test_names = labeled_names[:500]"
   ]
  },
  {
   "cell_type": "markdown",
   "metadata": {},
   "source": [
    "The training set is used to train the model, and the dev-test set is used to perform error analysis. The test set serves in our final evaluation of the system. For reasons discussed below, it is important that we employ a separate dev-test set for error analysis, rather than just using the test set. The division of the corpus data into different subsets is shown below:\n",
    "\n",
    "<img src=\"corpus-org.png\" alt=\"\" style=\"width: 400px;\"/>\n",
    "\n",
    "Organization of corpus data for training supervised classifiers. The corpus data is divided into two sets: the development set, and the test set. The development set is often further subdivided into a training set and a dev-test set.\n",
    "Having divided the corpus into appropriate datasets, we train a model using the training set [1], and then run it on the dev-test set [2].    "
   ]
  },
  {
   "cell_type": "code",
   "execution_count": 20,
   "metadata": {
    "collapsed": false
   },
   "outputs": [
    {
     "name": "stdout",
     "output_type": "stream",
     "text": [
      "0.755\n"
     ]
    }
   ],
   "source": [
    "train_set3 = [(gender_features(n), gender) for (n, gender) in train_names]\n",
    "devtest_set3 = [(gender_features(n), gender) for (n, gender) in devtest_names]\n",
    "test_set3 = [(gender_features(n), gender) for (n, gender) in test_names]\n",
    "classifier3 = nltk.NaiveBayesClassifier.train(train_set3) #[1]\n",
    "print(nltk.classify.accuracy(classifier3, devtest_set3)) #[2]"
   ]
  },
  {
   "cell_type": "markdown",
   "metadata": {},
   "source": [
    "Using the dev-test set, we can generate a list of the errors that the classifier makes when predicting name genders.\n",
    "\n",
    "We can then examine individual error cases where the model predicted the wrong label, and try to determine what additional pieces of information would allow it to make the right decision (or which existing pieces of information are tricking it into making the wrong decision). The feature set can then be adjusted accordingly. The names classifier that we have built generates about 100 errors on the dev-test corpus:"
   ]
  },
  {
   "cell_type": "code",
   "execution_count": 21,
   "metadata": {
    "collapsed": false
   },
   "outputs": [
    {
     "name": "stdout",
     "output_type": "stream",
     "text": [
      "correct=female   guess=male     name=Aeriel                        \n",
      "correct=female   guess=male     name=Aeriell                       \n",
      "correct=female   guess=male     name=Ag                            \n",
      "correct=female   guess=male     name=Aigneis                       \n",
      "correct=female   guess=male     name=Aimil                         \n",
      "correct=female   guess=male     name=Alisun                        \n",
      "correct=female   guess=male     name=Alleen                        \n",
      "correct=female   guess=male     name=Anabel                        \n",
      "correct=female   guess=male     name=Anet                          \n",
      "correct=female   guess=male     name=Angel                         \n",
      "correct=female   guess=male     name=Ann                           \n",
      "correct=female   guess=male     name=Annabell                      \n",
      "correct=female   guess=male     name=Ardis                         \n",
      "correct=female   guess=male     name=Ariel                         \n",
      "correct=female   guess=male     name=Bab                           \n",
      "correct=female   guess=male     name=Beret                         \n",
      "correct=female   guess=male     name=Berget                        \n",
      "correct=female   guess=male     name=Brigid                        \n",
      "correct=female   guess=male     name=Carlen                        \n",
      "correct=female   guess=male     name=Caryl                         \n",
      "correct=female   guess=male     name=Cathrin                       \n",
      "correct=female   guess=male     name=Charleen                      \n",
      "correct=female   guess=male     name=Cherlyn                       \n",
      "correct=female   guess=male     name=Chris                         \n",
      "correct=female   guess=male     name=Christabel                    \n",
      "correct=female   guess=male     name=Christal                      \n",
      "correct=female   guess=male     name=Danell                        \n",
      "correct=female   guess=male     name=Daryl                         \n",
      "correct=female   guess=male     name=Dell                          \n",
      "correct=female   guess=male     name=Dew                           \n",
      "correct=female   guess=male     name=Dian                          \n",
      "correct=female   guess=male     name=Doll                          \n",
      "correct=female   guess=male     name=Dorcas                        \n",
      "correct=female   guess=male     name=Doreen                        \n",
      "correct=female   guess=male     name=Doro                          \n",
      "correct=female   guess=male     name=Ellen                         \n",
      "correct=female   guess=male     name=Ellyn                         \n",
      "correct=female   guess=male     name=Emmalynn                      \n",
      "correct=female   guess=male     name=Ethelin                       \n",
      "correct=female   guess=male     name=Fawn                          \n",
      "correct=female   guess=male     name=Fiann                         \n",
      "correct=female   guess=male     name=Francis                       \n",
      "correct=female   guess=male     name=Gabriel                       \n",
      "correct=female   guess=male     name=Germain                       \n",
      "correct=female   guess=male     name=Gillian                       \n",
      "correct=female   guess=male     name=Gwyn                          \n",
      "correct=female   guess=male     name=Ines                          \n",
      "correct=female   guess=male     name=Inez                          \n",
      "correct=female   guess=male     name=Ingeborg                      \n",
      "correct=female   guess=male     name=Iseabal                       \n",
      "correct=female   guess=male     name=Jacklin                       \n",
      "correct=female   guess=male     name=Jackquelin                    \n",
      "correct=female   guess=male     name=Janifer                       \n",
      "correct=female   guess=male     name=Janis                         \n",
      "correct=female   guess=male     name=Jenn                          \n",
      "correct=female   guess=male     name=Jo                            \n",
      "correct=female   guess=male     name=Joann                         \n",
      "correct=female   guess=male     name=Jolyn                         \n",
      "correct=female   guess=male     name=Jonell                        \n",
      "correct=female   guess=male     name=Jordain                       \n",
      "correct=female   guess=male     name=Jourdan                       \n",
      "correct=female   guess=male     name=Joyan                         \n",
      "correct=female   guess=male     name=Juliann                       \n",
      "correct=female   guess=male     name=Katheryn                      \n",
      "correct=female   guess=male     name=Keren                         \n",
      "correct=female   guess=male     name=Kerstin                       \n",
      "correct=female   guess=male     name=Kirsten                       \n",
      "correct=female   guess=male     name=Leeann                        \n",
      "correct=female   guess=male     name=Lil                           \n",
      "correct=female   guess=male     name=Lilian                        \n",
      "correct=female   guess=male     name=Lillian                       \n",
      "correct=female   guess=male     name=Lilyan                        \n",
      "correct=female   guess=male     name=Loralyn                       \n",
      "correct=female   guess=male     name=Lorrin                        \n",
      "correct=female   guess=male     name=Lyn                           \n",
      "correct=female   guess=male     name=Lynnett                       \n",
      "correct=female   guess=male     name=Margit                        \n",
      "correct=female   guess=male     name=Marj                          \n",
      "correct=female   guess=male     name=Maud                          \n",
      "correct=female   guess=male     name=Mavis                         \n",
      "correct=female   guess=male     name=Meaghan                       \n",
      "correct=female   guess=male     name=Meridel                       \n",
      "correct=female   guess=male     name=Miriam                        \n",
      "correct=female   guess=male     name=Muriel                        \n",
      "correct=female   guess=male     name=Nadeen                        \n",
      "correct=female   guess=male     name=Nat                           \n",
      "correct=female   guess=male     name=Noell                         \n",
      "correct=female   guess=male     name=Noelyn                        \n",
      "correct=female   guess=male     name=Opal                          \n",
      "correct=female   guess=male     name=Persis                        \n",
      "correct=female   guess=male     name=Rachael                       \n",
      "correct=female   guess=male     name=Rahal                         \n",
      "correct=female   guess=male     name=Raven                         \n",
      "correct=female   guess=male     name=Renel                         \n",
      "correct=female   guess=male     name=Robbin                        \n",
      "correct=female   guess=male     name=Robbyn                        \n",
      "correct=female   guess=male     name=Rosamond                      \n",
      "correct=female   guess=male     name=Roseann                       \n",
      "correct=female   guess=male     name=Sal                           \n",
      "correct=female   guess=male     name=Sara-Ann                      \n",
      "correct=female   guess=male     name=Saraann                       \n",
      "correct=female   guess=male     name=Shanon                        \n",
      "correct=female   guess=male     name=Sharyl                        \n",
      "correct=female   guess=male     name=Shaylyn                       \n",
      "correct=female   guess=male     name=Sherill                       \n",
      "correct=female   guess=male     name=Sibeal                        \n",
      "correct=female   guess=male     name=Suzann                        \n",
      "correct=female   guess=male     name=Tamar                         \n",
      "correct=female   guess=male     name=Ted                           \n",
      "correct=female   guess=male     name=Tess                          \n",
      "correct=female   guess=male     name=Viviyan                       \n",
      "correct=male     guess=female   name=Abe                           \n",
      "correct=male     guess=female   name=Adolph                        \n",
      "correct=male     guess=female   name=Alex                          \n",
      "correct=male     guess=female   name=Alfie                         \n",
      "correct=male     guess=female   name=Amery                         \n",
      "correct=male     guess=female   name=Andie                         \n",
      "correct=male     guess=female   name=Andre                         \n",
      "correct=male     guess=female   name=Angie                         \n",
      "correct=male     guess=female   name=Antoine                       \n",
      "correct=male     guess=female   name=Antony                        \n",
      "correct=male     guess=female   name=Artie                         \n",
      "correct=male     guess=female   name=Ashish                        \n",
      "correct=male     guess=female   name=Aube                          \n",
      "correct=male     guess=female   name=Augie                         \n",
      "correct=male     guess=female   name=Bailie                        \n",
      "correct=male     guess=female   name=Barnaby                       \n",
      "correct=male     guess=female   name=Barrie                        \n",
      "correct=male     guess=female   name=Berkie                        \n",
      "correct=male     guess=female   name=Billie                        \n",
      "correct=male     guess=female   name=Binky                         \n",
      "correct=male     guess=female   name=Brady                         \n",
      "correct=male     guess=female   name=Brice                         \n",
      "correct=male     guess=female   name=Buddy                         \n",
      "correct=male     guess=female   name=Burke                         \n",
      "correct=male     guess=female   name=Butch                         \n",
      "correct=male     guess=female   name=Carlyle                       \n",
      "correct=male     guess=female   name=Chancey                       \n",
      "correct=male     guess=female   name=Chrissy                       \n",
      "correct=male     guess=female   name=Christy                       \n",
      "correct=male     guess=female   name=Claybourne                    \n",
      "correct=male     guess=female   name=Clyde                         \n",
      "correct=male     guess=female   name=Constantine                   \n",
      "correct=male     guess=female   name=Corby                         \n",
      "correct=male     guess=female   name=Dabney                        \n",
      "correct=male     guess=female   name=Danny                         \n",
      "correct=male     guess=female   name=Derby                         \n",
      "correct=male     guess=female   name=Donnie                        \n",
      "correct=male     guess=female   name=Douggie                       \n",
      "correct=male     guess=female   name=Elmore                        \n",
      "correct=male     guess=female   name=Elroy                         \n",
      "correct=male     guess=female   name=Erny                          \n",
      "correct=male     guess=female   name=Esme                          \n",
      "correct=male     guess=female   name=Ferdie                        \n",
      "correct=male     guess=female   name=Freddy                        \n",
      "correct=male     guess=female   name=French                        \n",
      "correct=male     guess=female   name=Friedrich                     \n",
      "correct=male     guess=female   name=Gabriele                      \n",
      "correct=male     guess=female   name=Godfree                       \n",
      "correct=male     guess=female   name=Gustave                       \n",
      "correct=male     guess=female   name=Hale                          \n",
      "correct=male     guess=female   name=Hamish                        \n",
      "correct=male     guess=female   name=Hari                          \n",
      "correct=male     guess=female   name=Herby                         \n",
      "correct=male     guess=female   name=Hezekiah                      \n",
      "correct=male     guess=female   name=Humphrey                      \n",
      "correct=male     guess=female   name=Huntley                       \n",
      "correct=male     guess=female   name=Hurley                        \n",
      "correct=male     guess=female   name=Isidore                       \n",
      "correct=male     guess=female   name=Jamey                         \n",
      "correct=male     guess=female   name=Jeffie                        \n",
      "correct=male     guess=female   name=Jefry                         \n",
      "correct=male     guess=female   name=Jermaine                      \n",
      "correct=male     guess=female   name=Jeromy                        \n",
      "correct=male     guess=female   name=Jesse                         \n",
      "correct=male     guess=female   name=Joe                           \n",
      "correct=male     guess=female   name=Johnny                        \n",
      "correct=male     guess=female   name=Jonny                         \n",
      "correct=male     guess=female   name=Jordy                         \n",
      "correct=male     guess=female   name=Klee                          \n",
      "correct=male     guess=female   name=Lance                         \n",
      "correct=male     guess=female   name=Larry                         \n",
      "correct=male     guess=female   name=Laurie                        \n",
      "correct=male     guess=female   name=Lawrence                      \n",
      "correct=male     guess=female   name=Lee                           \n",
      "correct=male     guess=female   name=Lesley                        \n",
      "correct=male     guess=female   name=Lindsay                       \n",
      "correct=male     guess=female   name=Lindy                         \n",
      "correct=male     guess=female   name=Louie                         \n",
      "correct=male     guess=female   name=Manny                         \n",
      "correct=male     guess=female   name=Marty                         \n",
      "correct=male     guess=female   name=Meade                         \n",
      "correct=male     guess=female   name=Monty                         \n",
      "correct=male     guess=female   name=Morley                        \n",
      "correct=male     guess=female   name=Munroe                        \n",
      "correct=male     guess=female   name=Neddie                        \n",
      "correct=male     guess=female   name=Nikki                         \n",
      "correct=male     guess=female   name=Orville                       \n",
      "correct=male     guess=female   name=Pete                          \n",
      "correct=male     guess=female   name=Phillipe                      \n",
      "correct=male     guess=female   name=Pierce                        \n",
      "correct=male     guess=female   name=Raleigh                       \n",
      "correct=male     guess=female   name=Ramsey                        \n",
      "correct=male     guess=female   name=Rawley                        \n",
      "correct=male     guess=female   name=Reece                         \n",
      "correct=male     guess=female   name=Rey                           \n",
      "correct=male     guess=female   name=Ricky                         \n",
      "correct=male     guess=female   name=Ritchie                       \n",
      "correct=male     guess=female   name=Rocky                         \n",
      "correct=male     guess=female   name=Rolfe                         \n",
      "correct=male     guess=female   name=Rory                          \n",
      "correct=male     guess=female   name=Roth                          \n",
      "correct=male     guess=female   name=Rudolph                       \n",
      "correct=male     guess=female   name=Rusty                         \n",
      "correct=male     guess=female   name=Say                           \n",
      "correct=male     guess=female   name=Sayre                         \n",
      "correct=male     guess=female   name=Sherlocke                     \n",
      "correct=male     guess=female   name=Si                            \n",
      "correct=male     guess=female   name=Siffre                        \n",
      "correct=male     guess=female   name=Skelly                        \n",
      "correct=male     guess=female   name=Smitty                        \n",
      "correct=male     guess=female   name=Spense                        \n",
      "correct=male     guess=female   name=Stacy                         \n",
      "correct=male     guess=female   name=Stevie                        \n",
      "correct=male     guess=female   name=Tabby                         \n",
      "correct=male     guess=female   name=Tammy                         \n",
      "correct=male     guess=female   name=Teddie                        \n",
      "correct=male     guess=female   name=Tedie                         \n",
      "correct=male     guess=female   name=Thayne                        \n",
      "correct=male     guess=female   name=Toby                          \n",
      "correct=male     guess=female   name=Toddie                        \n",
      "correct=male     guess=female   name=Tommie                        \n",
      "correct=male     guess=female   name=Tracie                        \n",
      "correct=male     guess=female   name=Vinnie                        \n",
      "correct=male     guess=female   name=Wadsworth                     \n",
      "correct=male     guess=female   name=Waite                         \n",
      "correct=male     guess=female   name=Whitney                       \n",
      "correct=male     guess=female   name=Wiley                         \n",
      "correct=male     guess=female   name=Willey                        \n",
      "correct=male     guess=female   name=Willi                         \n",
      "correct=male     guess=female   name=Wye                           \n",
      "correct=male     guess=female   name=Zacharia                      \n",
      "correct=male     guess=female   name=Zary                          \n",
      "correct=male     guess=female   name=Zolly                         \n"
     ]
    }
   ],
   "source": [
    "errors = []\n",
    "for (name, tag) in devtest_names:\n",
    "    guess = classifier.classify(gender_features(name))\n",
    "    if guess != tag:\n",
    "        errors.append( (tag, guess, name) )\n",
    "        \n",
    "for (tag, guess, name) in sorted(errors):\n",
    "    print('correct={:<8} guess={:<8s} name={:<30}'.format(tag, guess, name))"
   ]
  },
  {
   "cell_type": "markdown",
   "metadata": {},
   "source": [
    "Looking through this list of errors makes it clear that *some suffixes that are more than one letter can be indicative of name genders*. For example, names ending in yn appear to be predominantly female, despite the fact that names ending in n tend to be male; and names ending in ch are usually male, even though names that end in h tend to be female. We therefore adjust our feature extractor to include features for two-letter suffixes:    "
   ]
  },
  {
   "cell_type": "code",
   "execution_count": 22,
   "metadata": {
    "collapsed": true
   },
   "outputs": [],
   "source": [
    "def gender_features4(word):\n",
    "    return {'suffix1': word[-1:], 'suffix2': word[-2:]}"
   ]
  },
  {
   "cell_type": "markdown",
   "metadata": {},
   "source": [
    "Rebuilding the classifier with the new feature extractor, we see that the performance on the dev-test dataset improves by almost 2 percentage points:"
   ]
  },
  {
   "cell_type": "code",
   "execution_count": 23,
   "metadata": {
    "collapsed": false
   },
   "outputs": [
    {
     "name": "stdout",
     "output_type": "stream",
     "text": [
      "0.783\n"
     ]
    }
   ],
   "source": [
    "train_set4 = [(gender_features4(n), gender) for (n, gender) in train_names]\n",
    "devtest_set4 = [(gender_features4(n), gender) for (n, gender) in devtest_names]\n",
    "classifier4 = nltk.NaiveBayesClassifier.train(train_set4)\n",
    "print(nltk.classify.accuracy(classifier4, devtest_set4))"
   ]
  },
  {
   "cell_type": "markdown",
   "metadata": {},
   "source": [
    "This error analysis procedure can then be repeated, checking for patterns in the errors that are made by the newly improved classifier. Each time the error analysis procedure is repeated, we should select a different dev-test/training split, to ensure that the classifier does not start to reflect idiosyncrasies in the dev-test set.\n",
    "\n",
    "But once we've used the dev-test set to help us develop the model, we can no longer trust that it will give us an accurate idea of how well the model would perform on new data. It is therefore important to keep the test set separate, and unused, until our model development is complete. At that point, we can use the test set to evaluate how well our model will perform on new input values."
   ]
  },
  {
   "cell_type": "code",
   "execution_count": null,
   "metadata": {
    "collapsed": true
   },
   "outputs": [],
   "source": []
  }
 ],
 "metadata": {
  "kernelspec": {
   "display_name": "Python 2",
   "language": "python",
   "name": "python2"
  },
  "language_info": {
   "codemirror_mode": {
    "name": "ipython",
    "version": 2
   },
   "file_extension": ".py",
   "mimetype": "text/x-python",
   "name": "python",
   "nbconvert_exporter": "python",
   "pygments_lexer": "ipython2",
   "version": "2.7.10"
  }
 },
 "nbformat": 4,
 "nbformat_minor": 0
}
